{
 "cells": [
  {
   "cell_type": "markdown",
   "metadata": {},
   "source": [
    "# Build your own image recognizer\n",
    "\n",
    "Use other Keras modules to build your own image recognizer. You can use multiple models available in [keras.applications](https://keras.io/applications/) module.\n",
    "\n",
    "You may use following helper function to run your model on the model of your choice."
   ]
  },
  {
   "cell_type": "code",
   "execution_count": 11,
   "metadata": {},
   "outputs": [],
   "source": [
    "from IPython.display import Image\n",
    "from matplotlib import pyplot as plt\n",
    "from urllib.request import urlretrieve\n",
    "import os\n",
    "import numpy as np\n",
    "from keras.applications.resnet50 import preprocess_input, decode_predictions\n",
    "from keras.preprocessing import image\n",
    "\n",
    "\n",
    "def recognize_image_from_url(img_url, model, img_path=None, display_image=True, size=(224,224), top=5):\n",
    "    # construct temporary download path\n",
    "    if img_path is None:\n",
    "        img_path = os.path.join(\"data\",os.path.basename(img_url))\n",
    "    # download if not cached already\n",
    "    if not os.path.exists(img_path):\n",
    "        urlretrieve(img_url, img_path)\n",
    "    \n",
    "    # Display in target size\n",
    "    w,h = size\n",
    "    if display_image:\n",
    "        display(Image(filename=img_path, width=w, height=h))\n",
    "    \n",
    "    # Load and resize the image using keras.preprocessing.image.load_img\n",
    "    img = image.load_img(img_path, target_size=(w, h))\n",
    "    # convert to array\n",
    "    x = image.img_to_array(img)\n",
    "    \n",
    "    # Display actual imaged as scaled by keras.preprocessing.image.load_img\n",
    "    # In some cases it might be better to apply different scaling, cropping/padding strategy\n",
    "    if display_image:\n",
    "        plt.imshow(x/255)\n",
    "        plt.show()\n",
    "    \n",
    "    # Expand dimention, as model.predict() expect batch of images\n",
    "    x = np.expand_dims(x, axis=0)\n",
    "    \n",
    "    # preprocess image (The input images should be zero-centered by mean pixel)\n",
    "    x = preprocess_input(x)\n",
    "\n",
    "    # Call the model to obtain prediction\n",
    "    preds = model.predict(x)\n",
    "    # decode prediction to dictionary of clas name and probability\n",
    "    decoded=decode_predictions(preds, top=top)[0]\n",
    "    return decoded"
   ]
  },
  {
   "cell_type": "markdown",
   "metadata": {},
   "source": [
    "Try various images from the Internet (pick whatever you like form Google Image search).\n",
    "At Last (but not least) try this image: https://cdn.pixabay.com/photo/2011/12/13/14/28/earth-11009_960_720.jpg\n"
   ]
  },
  {
   "cell_type": "markdown",
   "metadata": {},
   "source": [
    "# Conclusion\n",
    "\n",
    "What are your conclusions?\n",
    "\n",
    "* Which model is best?\n",
    "* What model would you use in mobile app?\n",
    "* What model would you use in cloud app?\n",
    "* Can you use multiple models simultaneously?\n"
   ]
  },
  {
   "cell_type": "markdown",
   "metadata": {},
   "source": [
    "## Bonus question\n",
    "\n",
    "Explore ImageNet SynsNet around: http://image-net.org/synset?wnid=n09444783.\n",
    "\n",
    "What would you do if you'd like to classify objects of classes not known to ImageNet?"
   ]
  },
  {
   "cell_type": "code",
   "execution_count": null,
   "metadata": {
    "collapsed": true
   },
   "outputs": [],
   "source": []
  }
 ],
 "metadata": {
  "kernelspec": {
   "display_name": "Python 3",
   "language": "python",
   "name": "python3"
  },
  "language_info": {
   "codemirror_mode": {
    "name": "ipython",
    "version": 3
   },
   "file_extension": ".py",
   "mimetype": "text/x-python",
   "name": "python",
   "nbconvert_exporter": "python",
   "pygments_lexer": "ipython3",
   "version": "3.5.2"
  },
  "varInspector": {
   "cols": {
    "lenName": 16,
    "lenType": 16,
    "lenVar": 40
   },
   "kernels_config": {
    "python": {
     "delete_cmd_postfix": "",
     "delete_cmd_prefix": "del ",
     "library": "var_list.py",
     "varRefreshCmd": "print(var_dic_list())"
    },
    "r": {
     "delete_cmd_postfix": ") ",
     "delete_cmd_prefix": "rm(",
     "library": "var_list.r",
     "varRefreshCmd": "cat(var_dic_list()) "
    }
   },
   "types_to_exclude": [
    "module",
    "function",
    "builtin_function_or_method",
    "instance",
    "_Feature"
   ],
   "window_display": false
  }
 },
 "nbformat": 4,
 "nbformat_minor": 2
}
