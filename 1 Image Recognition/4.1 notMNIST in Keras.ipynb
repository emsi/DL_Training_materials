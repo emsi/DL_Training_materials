{
 "cells": [
  {
   "cell_type": "code",
   "execution_count": 11,
   "metadata": {
    "collapsed": true
   },
   "outputs": [],
   "source": [
    "import numpy as np\n",
    "\n",
    "%matplotlib inline"
   ]
  },
  {
   "cell_type": "code",
   "execution_count": 12,
   "metadata": {
    "collapsed": true
   },
   "outputs": [],
   "source": [
    "# Load data prepared in 4.0 notMNIST preprocessing\n",
    "\n",
    "save=np.load(\"notMNIST.save.npy\")\n",
    "save=save.tolist()\n",
    "    \n",
    "X_train_dataset=save['train_dataset']\n",
    "Y_train_labels=save['train_labels']\n",
    "\n",
    "X_test_dataset=save['test_dataset']\n",
    "Y_test_labels=save['test_labels']\n",
    "\n",
    "X_valid_dataset=save['valid_dataset']\n",
    "Y_valid_labels=save['valid_labels']\n",
    "\n",
    "letters = ['A', 'B', 'C', 'D', 'E', 'F', 'G', 'H', 'I', 'J']"
   ]
  },
  {
   "cell_type": "code",
   "execution_count": 3,
   "metadata": {},
   "outputs": [
    {
     "name": "stdout",
     "output_type": "stream",
     "text": [
      "(200000, 28, 28)\n",
      "[4 9 6 ..., 2 4 4]\n",
      "(10000, 28, 28)\n",
      "[3 6 4 ..., 6 9 0]\n",
      "(10000, 28, 28)\n",
      "[1 9 3 ..., 8 9 8]\n"
     ]
    }
   ],
   "source": [
    "# make sure they're right\n",
    "print (X_train_dataset.shape)\n",
    "print (Y_train_labels)\n",
    "print (X_test_dataset.shape)\n",
    "print (Y_test_labels)\n",
    "print (X_valid_dataset.shape)\n",
    "print (Y_valid_labels)"
   ]
  },
  {
   "cell_type": "code",
   "execution_count": 15,
   "metadata": {},
   "outputs": [
    {
     "name": "stdout",
     "output_type": "stream",
     "text": [
      "J\n"
     ]
    },
    {
     "data": {
      "image/png": "[encoded data removed]",
      "text/plain": [
       "<matplotlib.figure.Figure at 0x7f4de6016438>"
      ]
     },
     "metadata": {},
     "output_type": "display_data"
    }
   ],
   "source": [
    "# visualize\n",
    "\n",
    "sample_no=34\n",
    "\n",
    "from matplotlib import pyplot as plt\n",
    "plt.imshow(X_train_dataset[sample_no] , cmap='gray')\n",
    "print (letters[Y_train_labels[sample_no]])"
   ]
  },
  {
   "cell_type": "code",
   "execution_count": 5,
   "metadata": {},
   "outputs": [
    {
     "name": "stdout",
     "output_type": "stream",
     "text": [
      "min: -1.0, max1.0\n",
      "min: -1.0, max1.0\n",
      "min: -1.0, max1.0\n"
     ]
    }
   ],
   "source": [
    "# Make sure tha data is normalized\n",
    "X_train_dataset*=2\n",
    "X_valid_dataset*=2\n",
    "X_test_dataset*=2\n",
    "for dataset in (X_train_dataset, X_valid_dataset, X_test_dataset):\n",
    "    print (\"min: {}, max{}\".format(np.min(dataset),np.max(dataset)))\n"
   ]
  },
  {
   "cell_type": "code",
   "execution_count": 6,
   "metadata": {},
   "outputs": [
    {
     "name": "stderr",
     "output_type": "stream",
     "text": [
      "Using TensorFlow backend.\n"
     ]
    }
   ],
   "source": [
    "import keras.utils as utils\n",
    "\n",
    "# reshape to (N, 1, 28,28), equivalnet to X[:,None,:,:]\n",
    "X_train_dataset = X_train_dataset.reshape(X_train_dataset.shape[0], 1, 28, 28)\n",
    "X_valid_dataset = X_valid_dataset.reshape(X_valid_dataset.shape[0], 1, 28, 28)\n",
    "X_test_dataset = X_test_dataset.reshape(X_test_dataset.shape[0], 1, 28, 28)\n",
    "\n",
    "# Convert 1-dimensional class arrays to 10-dimensional class matrices (one-hot)\n",
    "Y_train_labels = utils.to_categorical(Y_train_labels, 10)\n",
    "Y_valid_labels = utils.to_categorical(Y_valid_labels, 10)\n",
    "Y_test_labels = utils.to_categorical(Y_test_labels, 10)\n"
   ]
  },
  {
   "cell_type": "code",
   "execution_count": 7,
   "metadata": {},
   "outputs": [
    {
     "data": {
      "text/plain": [
       "(200000, 1, 28, 28)"
      ]
     },
     "execution_count": 7,
     "metadata": {},
     "output_type": "execute_result"
    }
   ],
   "source": [
    "X_train_dataset.shape"
   ]
  },
  {
   "cell_type": "markdown",
   "metadata": {},
   "source": [
    "### Fully connected model\n",
    "Let's first try classic fullyconected model cosisting of two hidden layers followed by softmax activation function."
   ]
  },
  {
   "cell_type": "code",
   "execution_count": 8,
   "metadata": {},
   "outputs": [
    {
     "name": "stdout",
     "output_type": "stream",
     "text": [
      "_________________________________________________________________\n",
      "Layer (type)                 Output Shape              Param #   \n",
      "=================================================================\n",
      "input_1 (InputLayer)         (None, 1, 28, 28)         0         \n",
      "_________________________________________________________________\n",
      "reshape_1 (Reshape)          (None, 784)               0         \n",
      "_________________________________________________________________\n",
      "dense_1 (Dense)              (None, 512)               401920    \n",
      "_________________________________________________________________\n",
      "dense_2 (Dense)              (None, 64)                32832     \n",
      "_________________________________________________________________\n",
      "dense_3 (Dense)              (None, 10)                650       \n",
      "=================================================================\n",
      "Total params: 435,402\n",
      "Trainable params: 435,402\n",
      "Non-trainable params: 0\n",
      "_________________________________________________________________\n"
     ]
    }
   ],
   "source": [
    "from keras.layers import Input, Dense, Reshape\n",
    "from keras.models import Model\n",
    "\n",
    "# This returns a tensor\n",
    "inputs = Input(shape=(1,28,28,))\n",
    "inputs_r = Reshape(target_shape=(784,))(inputs)\n",
    "# a layer instance is callable on a tensor, and returns a tensor\n",
    "x = Dense(512, activation='relu')(inputs_r)\n",
    "x = Dense(64, activation='relu')(x)\n",
    "predictions = Dense(10, activation='softmax')(x)\n",
    "\n",
    "# This creates a model that includes\n",
    "# the Input layer and three Dense layers\n",
    "model = Model(inputs=inputs, outputs=predictions)\n",
    "model.summary()\n"
   ]
  },
  {
   "cell_type": "code",
   "execution_count": 9,
   "metadata": {},
   "outputs": [
    {
     "name": "stdout",
     "output_type": "stream",
     "text": [
      "Train on 200000 samples, validate on 10000 samples\n",
      "Epoch 1/20\n",
      "200000/200000 [==============================] - 2s - loss: 1.0660 - acc: 0.6538 - val_loss: 0.6637 - val_acc: 0.8031\n",
      "Epoch 2/20\n",
      "200000/200000 [==============================] - 1s - loss: 0.6125 - acc: 0.8173 - val_loss: 0.6423 - val_acc: 0.8031\n",
      "Epoch 3/20\n",
      "200000/200000 [==============================] - 1s - loss: 0.5793 - acc: 0.8251 - val_loss: 0.5929 - val_acc: 0.8196\n",
      "Epoch 4/20\n",
      "200000/200000 [==============================] - 1s - loss: 0.5268 - acc: 0.8400 - val_loss: 0.5120 - val_acc: 0.8445\n",
      "Epoch 5/20\n",
      "200000/200000 [==============================] - 1s - loss: 0.5099 - acc: 0.8444 - val_loss: 0.4901 - val_acc: 0.8516\n",
      "Epoch 6/20\n",
      "200000/200000 [==============================] - 1s - loss: 0.4847 - acc: 0.8521 - val_loss: 0.4986 - val_acc: 0.8490\n",
      "Epoch 7/20\n",
      "200000/200000 [==============================] - 1s - loss: 0.4696 - acc: 0.8566 - val_loss: 0.4591 - val_acc: 0.8612\n",
      "Epoch 8/20\n",
      "200000/200000 [==============================] - 1s - loss: 0.4585 - acc: 0.8596 - val_loss: 0.4482 - val_acc: 0.8629\n",
      "Epoch 9/20\n",
      "200000/200000 [==============================] - 1s - loss: 0.4393 - acc: 0.8665 - val_loss: 0.4688 - val_acc: 0.8607\n",
      "Epoch 10/20\n",
      "200000/200000 [==============================] - 1s - loss: 0.4197 - acc: 0.8719 - val_loss: 0.4348 - val_acc: 0.8661\n",
      "Epoch 11/20\n",
      "200000/200000 [==============================] - 1s - loss: 0.4132 - acc: 0.8735 - val_loss: 0.4393 - val_acc: 0.8656\n",
      "Epoch 12/20\n",
      "200000/200000 [==============================] - 1s - loss: 0.3993 - acc: 0.8790 - val_loss: 0.4438 - val_acc: 0.8624\n",
      "Epoch 13/20\n",
      "200000/200000 [==============================] - 1s - loss: 0.3936 - acc: 0.8802 - val_loss: 0.4309 - val_acc: 0.8692\n",
      "Epoch 14/20\n",
      "200000/200000 [==============================] - 1s - loss: 0.3837 - acc: 0.8833 - val_loss: 0.4069 - val_acc: 0.8752\n",
      "Epoch 15/20\n",
      "200000/200000 [==============================] - 1s - loss: 0.3735 - acc: 0.8863 - val_loss: 0.4084 - val_acc: 0.8748\n",
      "Epoch 16/20\n",
      "200000/200000 [==============================] - 1s - loss: 0.3709 - acc: 0.8864 - val_loss: 0.4203 - val_acc: 0.8720\n",
      "Epoch 17/20\n",
      "200000/200000 [==============================] - 1s - loss: 0.3642 - acc: 0.8890 - val_loss: 0.3818 - val_acc: 0.8848\n",
      "Epoch 18/20\n",
      "200000/200000 [==============================] - 1s - loss: 0.3555 - acc: 0.8916 - val_loss: 0.3921 - val_acc: 0.8800\n",
      "Epoch 19/20\n",
      "200000/200000 [==============================] - 1s - loss: 0.3477 - acc: 0.8946 - val_loss: 0.4121 - val_acc: 0.8756\n",
      "Epoch 20/20\n",
      "200000/200000 [==============================] - 1s - loss: 0.3429 - acc: 0.8952 - val_loss: 0.3714 - val_acc: 0.8862\n"
     ]
    }
   ],
   "source": [
    "model.compile(optimizer='rmsprop',\n",
    "              loss='categorical_crossentropy',\n",
    "              metrics=['accuracy'])\n",
    "history=model.fit(X_train_dataset, Y_train_labels, validation_data=(X_valid_dataset, Y_valid_labels),\n",
    "          batch_size=16384, epochs=20)"
   ]
  },
  {
   "cell_type": "code",
   "execution_count": 10,
   "metadata": {},
   "outputs": [
    {
     "name": "stdout",
     "output_type": "stream",
     "text": [
      "dict_keys(['acc', 'val_acc', 'val_loss', 'loss'])\n"
     ]
    },
    {
     "data": {
      "image/png": "[encoded data removed]",
      "text/plain": [
       "<matplotlib.figure.Figure at 0x7fcd29b306a0>"
      ]
     },
     "metadata": {},
     "output_type": "display_data"
    },
    {
     "data": {
      "image/png": "[encoded data removed]",
      "text/plain": [
       "<matplotlib.figure.Figure at 0x7fcd24137d30>"
      ]
     },
     "metadata": {},
     "output_type": "display_data"
    }
   ],
   "source": [
    "print(history.history.keys())\n",
    "# summarize history for accuracy\n",
    "plt.plot(history.history['acc'])\n",
    "plt.plot(history.history['val_acc'])\n",
    "plt.title('model accuracy')\n",
    "plt.ylabel('accuracy')\n",
    "plt.xlabel('epoch')\n",
    "plt.legend(['train', 'test'], loc='upper left')\n",
    "plt.show()\n",
    "\n",
    "\n",
    "# summarize history for loss\n",
    "plt.plot(history.history['loss'])\n",
    "plt.plot(history.history['val_loss'])\n",
    "plt.title('model loss')\n",
    "plt.ylabel('loss')\n",
    "plt.xlabel('epoch')\n",
    "plt.legend(['train', 'test'], loc='upper left')\n",
    "plt.show()"
   ]
  },
  {
   "cell_type": "code",
   "execution_count": 11,
   "metadata": {},
   "outputs": [
    {
     "name": "stdout",
     "output_type": "stream",
     "text": [
      " 9536/10000 [===========================>..] - ETA: 0s"
     ]
    }
   ],
   "source": [
    "score_test = model.evaluate(X_test_dataset, Y_test_labels, verbose=1)\n"
   ]
  },
  {
   "cell_type": "code",
   "execution_count": 12,
   "metadata": {},
   "outputs": [
    {
     "name": "stdout",
     "output_type": "stream",
     "text": [
      "acc: 94.02%\n"
     ]
    }
   ],
   "source": [
    "print(\"%s: %.2f%%\" % (model.metrics_names[1], score_test[1]*100))"
   ]
  },
  {
   "cell_type": "markdown",
   "metadata": {},
   "source": [
    "### Convolutional module\n",
    "Now we try convolutional model cosisting of two Conv layers followed by softmax activation function.\n",
    "\n",
    "This model utilizes Dropdown to fight overfitting."
   ]
  },
  {
   "cell_type": "code",
   "execution_count": 14,
   "metadata": {},
   "outputs": [
    {
     "name": "stdout",
     "output_type": "stream",
     "text": [
      "min: 0.0, max: 1.0\n",
      "min: 0.0, max: 1.0\n",
      "min: 0.0, max: 1.0\n"
     ]
    }
   ],
   "source": [
    "save=np.load(\"notMNIST.save.npy\")\n",
    "save=save.tolist()\n",
    "\n",
    "X_train_dataset=save['train_dataset']\n",
    "Y_train_labels=save['train_labels']\n",
    "\n",
    "X_test_dataset=save['test_dataset']\n",
    "Y_test_labels=save['test_labels']\n",
    "\n",
    "X_valid_dataset=save['valid_dataset']\n",
    "Y_valid_labels=save['valid_labels']\n",
    "\n",
    "if np.min(X_train_dataset)<0:\n",
    "    X_train_dataset+=0.5\n",
    "    X_valid_dataset+=0.5\n",
    "    X_test_dataset+=0.5\n",
    "for dataset in (X_train_dataset, X_valid_dataset, X_test_dataset):\n",
    "    print (\"min: {}, max: {}\".format(np.min(dataset),np.max(dataset)))\n",
    "    \n",
    "import keras.utils as utils\n",
    "# reshape to (N, 1, 28,28), equivalnet to X[:,None,:,:]\n",
    "X_train_dataset = X_train_dataset.reshape(X_train_dataset.shape[0], 1, 28, 28)\n",
    "X_valid_dataset = X_valid_dataset.reshape(X_valid_dataset.shape[0], 1, 28, 28)\n",
    "X_test_dataset = X_test_dataset.reshape(X_test_dataset.shape[0], 1, 28, 28)\n",
    "\n",
    "# Convert 1-dimensional class arrays to 10-dimensional class matrices (one-hot)\n",
    "Y_train_labels = utils.to_categorical(Y_train_labels, 10)\n",
    "Y_valid_labels = utils.to_categorical(Y_valid_labels, 10)\n",
    "Y_test_labels = utils.to_categorical(Y_test_labels, 10)"
   ]
  },
  {
   "cell_type": "code",
   "execution_count": 7,
   "metadata": {},
   "outputs": [
    {
     "name": "stdout",
     "output_type": "stream",
     "text": [
      "_________________________________________________________________\n",
      "Layer (type)                 Output Shape              Param #   \n",
      "=================================================================\n",
      "reshape_2 (Reshape)          (None, 28, 28, 1)         0         \n",
      "_________________________________________________________________\n",
      "conv2d_3 (Conv2D)            (None, 26, 26, 32)        320       \n",
      "_________________________________________________________________\n",
      "conv2d_4 (Conv2D)            (None, 24, 24, 64)        18496     \n",
      "_________________________________________________________________\n",
      "max_pooling2d_2 (MaxPooling2 (None, 12, 12, 64)        0         \n",
      "_________________________________________________________________\n",
      "dropout_2 (Dropout)          (None, 12, 12, 64)        0         \n",
      "_________________________________________________________________\n",
      "flatten_2 (Flatten)          (None, 9216)              0         \n",
      "_________________________________________________________________\n",
      "dense_1 (Dense)              (None, 128)               1179776   \n",
      "_________________________________________________________________\n",
      "dropout_3 (Dropout)          (None, 128)               0         \n",
      "_________________________________________________________________\n",
      "dense_2 (Dense)              (None, 10)                1290      \n",
      "=================================================================\n",
      "Total params: 1,199,882\n",
      "Trainable params: 1,199,882\n",
      "Non-trainable params: 0\n",
      "_________________________________________________________________\n"
     ]
    }
   ],
   "source": [
    "from keras.layers import Conv2D, AveragePooling2D, MaxPooling2D, Flatten, Dropout, Reshape, Dense\n",
    "from keras.models import Sequential\n",
    "\n",
    "model = Sequential()\n",
    "model.add(Reshape(target_shape=(28,28,1,),input_shape=(1,28,28)))\n",
    "model.add(Conv2D(32, (3, 3), activation='relu'))\n",
    "model.add(Conv2D(64, (3, 3), activation='relu'))\n",
    "model.add(MaxPooling2D(pool_size=(2, 2)))\n",
    "model.add(Dropout(0.25))\n",
    "model.add(Flatten())\n",
    "model.add(Dense(128, activation='relu'))\n",
    "model.add(Dropout(0.5))\n",
    "model.add(Dense(10, activation='softmax'))\n",
    "\n",
    "model.summary()\n",
    "\n",
    "model.compile(loss='categorical_crossentropy',\n",
    "              optimizer='adam',\n",
    "              metrics=['accuracy'])"
   ]
  },
  {
   "cell_type": "code",
   "execution_count": 8,
   "metadata": {},
   "outputs": [
    {
     "name": "stdout",
     "output_type": "stream",
     "text": [
      "Train on 200000 samples, validate on 10000 samples\n",
      "Epoch 1/20\n",
      "200000/200000 [==============================] - 21s - loss: 0.4860 - acc: 0.8558 - val_loss: 0.3303 - val_acc: 0.9033\n",
      "Epoch 2/20\n",
      "200000/200000 [==============================] - 18s - loss: 0.3681 - acc: 0.8891 - val_loss: 0.2948 - val_acc: 0.9140\n",
      "Epoch 3/20\n",
      "200000/200000 [==============================] - 18s - loss: 0.3329 - acc: 0.8991 - val_loss: 0.2784 - val_acc: 0.9173\n",
      "Epoch 4/20\n",
      "200000/200000 [==============================] - 18s - loss: 0.3081 - acc: 0.9049 - val_loss: 0.2688 - val_acc: 0.9207\n",
      "Epoch 5/20\n",
      "200000/200000 [==============================] - 18s - loss: 0.2883 - acc: 0.9106 - val_loss: 0.2634 - val_acc: 0.9216\n",
      "Epoch 6/20\n",
      "200000/200000 [==============================] - 18s - loss: 0.2733 - acc: 0.9147 - val_loss: 0.2561 - val_acc: 0.9246\n",
      "Epoch 7/20\n",
      "200000/200000 [==============================] - 18s - loss: 0.2571 - acc: 0.9186 - val_loss: 0.2530 - val_acc: 0.9268\n",
      "Epoch 8/20\n",
      "200000/200000 [==============================] - 18s - loss: 0.2462 - acc: 0.9216 - val_loss: 0.2565 - val_acc: 0.9240\n",
      "Epoch 9/20\n",
      "200000/200000 [==============================] - 18s - loss: 0.2355 - acc: 0.9239 - val_loss: 0.2536 - val_acc: 0.9267\n",
      "Epoch 10/20\n",
      "200000/200000 [==============================] - 18s - loss: 0.2253 - acc: 0.9263 - val_loss: 0.2483 - val_acc: 0.9274\n",
      "Epoch 11/20\n",
      "200000/200000 [==============================] - 18s - loss: 0.2185 - acc: 0.9283 - val_loss: 0.2479 - val_acc: 0.9297\n",
      "Epoch 12/20\n",
      "200000/200000 [==============================] - 18s - loss: 0.2111 - acc: 0.9302 - val_loss: 0.2517 - val_acc: 0.9288\n",
      "Epoch 13/20\n",
      "200000/200000 [==============================] - 18s - loss: 0.2065 - acc: 0.9315 - val_loss: 0.2492 - val_acc: 0.9304\n",
      "Epoch 14/20\n",
      "200000/200000 [==============================] - 18s - loss: 0.1992 - acc: 0.9336 - val_loss: 0.2515 - val_acc: 0.9314\n",
      "Epoch 15/20\n",
      "200000/200000 [==============================] - 18s - loss: 0.1936 - acc: 0.9355 - val_loss: 0.2517 - val_acc: 0.9297\n",
      "Epoch 16/20\n",
      "200000/200000 [==============================] - 18s - loss: 0.1900 - acc: 0.9360 - val_loss: 0.2500 - val_acc: 0.9320\n",
      "Epoch 17/20\n",
      "200000/200000 [==============================] - 18s - loss: 0.1843 - acc: 0.9377 - val_loss: 0.2524 - val_acc: 0.9306\n",
      "Epoch 18/20\n",
      "200000/200000 [==============================] - 18s - loss: 0.1817 - acc: 0.9387 - val_loss: 0.2568 - val_acc: 0.9294\n",
      "Epoch 19/20\n",
      "200000/200000 [==============================] - 18s - loss: 0.1787 - acc: 0.9395 - val_loss: 0.2781 - val_acc: 0.9282\n",
      "Epoch 20/20\n",
      "200000/200000 [==============================] - 18s - loss: 0.1766 - acc: 0.9403 - val_loss: 0.2597 - val_acc: 0.9311\n"
     ]
    }
   ],
   "source": [
    "history=model.fit(X_train_dataset, Y_train_labels, validation_data=(X_valid_dataset, Y_valid_labels),\n",
    "          batch_size=128, epochs=20)"
   ]
  },
  {
   "cell_type": "code",
   "execution_count": 11,
   "metadata": {},
   "outputs": [
    {
     "name": "stdout",
     "output_type": "stream",
     "text": [
      "dict_keys(['val_loss', 'acc', 'val_acc', 'loss'])\n"
     ]
    },
    {
     "data": {
      "image/png": "[encoded data removed]",
      "text/plain": [
       "<matplotlib.figure.Figure at 0x7f4ddd7de550>"
      ]
     },
     "metadata": {},
     "output_type": "display_data"
    },
    {
     "data": {
      "image/png": "[encoded data removed]",
      "text/plain": [
       "<matplotlib.figure.Figure at 0x7f4da07498d0>"
      ]
     },
     "metadata": {},
     "output_type": "display_data"
    }
   ],
   "source": [
    "print(history.history.keys())\n",
    "# summarize history for accuracy\n",
    "plt.plot(history.history['acc'])\n",
    "plt.plot(history.history['val_acc'])\n",
    "plt.title('model accuracy')\n",
    "plt.ylabel('accuracy')\n",
    "plt.xlabel('epoch')\n",
    "plt.legend(['train', 'test'], loc='upper left')\n",
    "plt.show()\n",
    "\n",
    "\n",
    "# summarize history for loss\n",
    "plt.plot(history.history['loss'])\n",
    "plt.plot(history.history['val_loss'])\n",
    "plt.title('model loss')\n",
    "plt.ylabel('loss')\n",
    "plt.xlabel('epoch')\n",
    "plt.legend(['train', 'test'], loc='upper left')\n",
    "plt.show()"
   ]
  },
  {
   "cell_type": "code",
   "execution_count": 12,
   "metadata": {},
   "outputs": [
    {
     "name": "stdout",
     "output_type": "stream",
     "text": [
      "10000/10000 [==============================] - 0s     \n"
     ]
    }
   ],
   "source": [
    "score_test = model.evaluate(X_test_dataset, Y_test_labels, verbose=1)\n"
   ]
  },
  {
   "cell_type": "code",
   "execution_count": 13,
   "metadata": {},
   "outputs": [
    {
     "name": "stdout",
     "output_type": "stream",
     "text": [
      "acc: 97.17%\n"
     ]
    }
   ],
   "source": [
    "print(\"%s: %.2f%%\" % (model.metrics_names[1], score_test[1]*100))"
   ]
  },
  {
   "cell_type": "markdown",
   "metadata": {},
   "source": [
    "### Inception module based model\n",
    "The last model utilizes Inception module to build the classifier.\n",
    "\n",
    "You may take an excercise to tweak it to match or beat simple Conv module from above."
   ]
  },
  {
   "cell_type": "code",
   "execution_count": 27,
   "metadata": {},
   "outputs": [
    {
     "name": "stdout",
     "output_type": "stream",
     "text": [
      "____________________________________________________________________________________________________\n",
      "Layer (type)                     Output Shape          Param #     Connected to                     \n",
      "====================================================================================================\n",
      "input_16 (InputLayer)            (None, 1, 28, 28)     0                                            \n",
      "____________________________________________________________________________________________________\n",
      "reshape_17 (Reshape)             (None, 28, 28, 1)     0           input_16[0][0]                   \n",
      "____________________________________________________________________________________________________\n",
      "conv2d_107 (Conv2D)              (None, 28, 28, 64)    128         reshape_17[0][0]                 \n",
      "____________________________________________________________________________________________________\n",
      "conv2d_109 (Conv2D)              (None, 28, 28, 64)    128         reshape_17[0][0]                 \n",
      "____________________________________________________________________________________________________\n",
      "max_pooling2d_30 (MaxPooling2D)  (None, 28, 28, 1)     0           reshape_17[0][0]                 \n",
      "____________________________________________________________________________________________________\n",
      "conv2d_108 (Conv2D)              (None, 28, 28, 64)    36928       conv2d_107[0][0]                 \n",
      "____________________________________________________________________________________________________\n",
      "conv2d_110 (Conv2D)              (None, 28, 28, 64)    102464      conv2d_109[0][0]                 \n",
      "____________________________________________________________________________________________________\n",
      "conv2d_111 (Conv2D)              (None, 28, 28, 64)    128         max_pooling2d_30[0][0]           \n",
      "____________________________________________________________________________________________________\n",
      "concatenate_17 (Concatenate)     (None, 84, 28, 64)    0           conv2d_108[0][0]                 \n",
      "                                                                   conv2d_110[0][0]                 \n",
      "                                                                   conv2d_111[0][0]                 \n",
      "____________________________________________________________________________________________________\n",
      "max_pooling2d_31 (MaxPooling2D)  (None, 42, 14, 64)    0           concatenate_17[0][0]             \n",
      "____________________________________________________________________________________________________\n",
      "batch_normalization_7 (BatchNorm (None, 42, 14, 64)    256         max_pooling2d_31[0][0]           \n",
      "____________________________________________________________________________________________________\n",
      "dropout_13 (Dropout)             (None, 42, 14, 64)    0           batch_normalization_7[0][0]      \n",
      "____________________________________________________________________________________________________\n",
      "flatten_7 (Flatten)              (None, 37632)         0           dropout_13[0][0]                 \n",
      "____________________________________________________________________________________________________\n",
      "dense_12 (Dense)                 (None, 64)            2408512     flatten_7[0][0]                  \n",
      "____________________________________________________________________________________________________\n",
      "batch_normalization_8 (BatchNorm (None, 64)            256         dense_12[0][0]                   \n",
      "____________________________________________________________________________________________________\n",
      "dropout_14 (Dropout)             (None, 64)            0           batch_normalization_8[0][0]      \n",
      "____________________________________________________________________________________________________\n",
      "dense_13 (Dense)                 (None, 10)            650         dropout_14[0][0]                 \n",
      "====================================================================================================\n",
      "Total params: 2,549,450\n",
      "Trainable params: 2,549,194\n",
      "Non-trainable params: 256\n",
      "____________________________________________________________________________________________________\n"
     ]
    }
   ],
   "source": [
    "from keras.layers import Conv2D, MaxPooling2D, Input,  Flatten, Dropout, Reshape, Dense, BatchNormalization\n",
    "from keras.layers import concatenate\n",
    "from keras.models import Model, Sequential\n",
    "\n",
    "inputs = Input(shape=(1,28,28,))\n",
    "input_img = Reshape(target_shape=(28,28,1,),input_shape=(1,28,28))(inputs)\n",
    "\n",
    "# Inceptiom module 1\n",
    "\n",
    "tower_1 = Conv2D(64, (1, 1), padding='same', activation='relu')(input_img)\n",
    "tower_1 = Conv2D(64, (3, 3), padding='same', activation='relu')(tower_1)\n",
    "\n",
    "tower_2 = Conv2D(64, (1, 1), padding='same', activation='relu')(input_img)\n",
    "tower_2 = Conv2D(64, (5, 5), padding='same', activation='relu')(tower_2)\n",
    "\n",
    "tower_3 = MaxPooling2D((3, 3), strides=(1, 1), padding='same')(input_img)\n",
    "tower_3 = Conv2D(64, (1, 1), padding='same', activation='relu')(tower_3)\n",
    "\n",
    "output = Concatenate(axis=1)([tower_1, tower_2, tower_3])\n",
    "\n",
    "\n",
    "output = MaxPooling2D(pool_size=(2, 2))(output)\n",
    "output = BatchNormalization()(output)\n",
    "output = Dropout(0.2)(output)\n",
    "output = Flatten()(output)\n",
    "output = Dense(64, activation='relu')(output)\n",
    "output = BatchNormalization()(output)\n",
    "output = Dropout(0.2)(output)\n",
    "output = Dense(10, activation='softmax')(output)\n",
    "\n",
    "model = Model(inputs=inputs, outputs=output)\n",
    "\n",
    "# Final classifier\n",
    "\n",
    "model.summary()\n",
    "\n",
    "model.compile(loss='categorical_crossentropy',\n",
    "              optimizer='adam',\n",
    "              metrics=['accuracy'])"
   ]
  },
  {
   "cell_type": "code",
   "execution_count": 28,
   "metadata": {},
   "outputs": [
    {
     "name": "stdout",
     "output_type": "stream",
     "text": [
      "Train on 200000 samples, validate on 10000 samples\n",
      "Epoch 1/20\n",
      "200000/200000 [==============================] - 59s - loss: 0.4285 - acc: 0.8772 - val_loss: 0.3282 - val_acc: 0.9050\n",
      "Epoch 2/20\n",
      "200000/200000 [==============================] - 58s - loss: 0.3310 - acc: 0.9018 - val_loss: 0.2972 - val_acc: 0.9118\n",
      "Epoch 3/20\n",
      "200000/200000 [==============================] - 58s - loss: 0.2958 - acc: 0.9105 - val_loss: 0.2872 - val_acc: 0.9165\n",
      "Epoch 4/20\n",
      "200000/200000 [==============================] - 57s - loss: 0.2660 - acc: 0.9184 - val_loss: 0.2727 - val_acc: 0.9215\n",
      "Epoch 5/20\n",
      "200000/200000 [==============================] - 56s - loss: 0.2423 - acc: 0.9250 - val_loss: 0.2771 - val_acc: 0.9189\n",
      "Epoch 6/20\n",
      "200000/200000 [==============================] - 56s - loss: 0.2203 - acc: 0.9314 - val_loss: 0.2765 - val_acc: 0.9225\n",
      "Epoch 7/20\n",
      "200000/200000 [==============================] - 56s - loss: 0.2015 - acc: 0.9359 - val_loss: 0.2736 - val_acc: 0.9217\n",
      "Epoch 8/20\n",
      "200000/200000 [==============================] - 56s - loss: 0.1826 - acc: 0.9419 - val_loss: 0.2814 - val_acc: 0.9234\n",
      "Epoch 9/20\n",
      "200000/200000 [==============================] - 56s - loss: 0.1681 - acc: 0.9459 - val_loss: 0.2875 - val_acc: 0.9215\n",
      "Epoch 10/20\n",
      "200000/200000 [==============================] - 56s - loss: 0.1552 - acc: 0.9497 - val_loss: 0.3001 - val_acc: 0.9221\n",
      "Epoch 11/20\n",
      "200000/200000 [==============================] - 57s - loss: 0.1436 - acc: 0.9536 - val_loss: 0.3074 - val_acc: 0.9234\n",
      "Epoch 12/20\n",
      "200000/200000 [==============================] - 58s - loss: 0.1344 - acc: 0.9564 - val_loss: 0.3049 - val_acc: 0.9256\n",
      "Epoch 13/20\n",
      "200000/200000 [==============================] - 57s - loss: 0.1254 - acc: 0.9590 - val_loss: 0.3227 - val_acc: 0.9232\n",
      "Epoch 14/20\n",
      "200000/200000 [==============================] - 57s - loss: 0.1201 - acc: 0.9612 - val_loss: 0.3272 - val_acc: 0.9237\n",
      "Epoch 15/20\n",
      "200000/200000 [==============================] - 57s - loss: 0.1115 - acc: 0.9633 - val_loss: 0.3300 - val_acc: 0.9243\n",
      "Epoch 16/20\n",
      "200000/200000 [==============================] - 58s - loss: 0.1076 - acc: 0.9645 - val_loss: 0.3369 - val_acc: 0.9243\n",
      "Epoch 17/20\n",
      "200000/200000 [==============================] - 57s - loss: 0.1016 - acc: 0.9670 - val_loss: 0.3441 - val_acc: 0.9213\n",
      "Epoch 18/20\n",
      "200000/200000 [==============================] - 57s - loss: 0.0988 - acc: 0.9678 - val_loss: 0.3467 - val_acc: 0.9240\n",
      "Epoch 19/20\n",
      "200000/200000 [==============================] - 57s - loss: 0.0955 - acc: 0.9686 - val_loss: 0.3714 - val_acc: 0.9258\n",
      "Epoch 20/20\n",
      "200000/200000 [==============================] - 58s - loss: 0.0930 - acc: 0.9694 - val_loss: 0.3643 - val_acc: 0.9263\n"
     ]
    }
   ],
   "source": [
    "history=model.fit(X_train_dataset, Y_train_labels, validation_data=(X_valid_dataset, Y_valid_labels),\n",
    "          batch_size=128, epochs=20)"
   ]
  },
  {
   "cell_type": "code",
   "execution_count": 11,
   "metadata": {},
   "outputs": [
    {
     "name": "stdout",
     "output_type": "stream",
     "text": [
      "dict_keys(['val_loss', 'acc', 'val_acc', 'loss'])\n"
     ]
    },
    {
     "data": {
      "image/png": "[encoded data removed]",
      "text/plain": [
       "<matplotlib.figure.Figure at 0x7f4ddd7de550>"
      ]
     },
     "metadata": {},
     "output_type": "display_data"
    },
    {
     "data": {
      "image/png": "[encoded data removed]",
      "text/plain": [
       "<matplotlib.figure.Figure at 0x7f4da07498d0>"
      ]
     },
     "metadata": {},
     "output_type": "display_data"
    }
   ],
   "source": [
    "print(history.history.keys())\n",
    "# summarize history for accuracy\n",
    "plt.plot(history.history['acc'])\n",
    "plt.plot(history.history['val_acc'])\n",
    "plt.title('model accuracy')\n",
    "plt.ylabel('accuracy')\n",
    "plt.xlabel('epoch')\n",
    "plt.legend(['train', 'test'], loc='upper left')\n",
    "plt.show()\n",
    "\n",
    "\n",
    "# summarize history for loss\n",
    "plt.plot(history.history['loss'])\n",
    "plt.plot(history.history['val_loss'])\n",
    "plt.title('model loss')\n",
    "plt.ylabel('loss')\n",
    "plt.xlabel('epoch')\n",
    "plt.legend(['train', 'test'], loc='upper left')\n",
    "plt.show()"
   ]
  },
  {
   "cell_type": "code",
   "execution_count": 29,
   "metadata": {},
   "outputs": [
    {
     "name": "stdout",
     "output_type": "stream",
     "text": [
      " 9920/10000 [============================>.] - ETA: 0s"
     ]
    }
   ],
   "source": [
    "score_test = model.evaluate(X_test_dataset, Y_test_labels, verbose=1)\n"
   ]
  },
  {
   "cell_type": "code",
   "execution_count": 30,
   "metadata": {},
   "outputs": [
    {
     "name": "stdout",
     "output_type": "stream",
     "text": [
      "acc: 96.75%\n"
     ]
    }
   ],
   "source": [
    "print(\"%s: %.2f%%\" % (model.metrics_names[1], score_test[1]*100))"
   ]
  },
  {
   "cell_type": "code",
   "execution_count": null,
   "metadata": {
    "collapsed": true
   },
   "outputs": [],
   "source": []
  }
 ],
 "metadata": {
  "kernelspec": {
   "display_name": "Python 3",
   "language": "python",
   "name": "python3"
  },
  "language_info": {
   "codemirror_mode": {
    "name": "ipython",
    "version": 3
   },
   "file_extension": ".py",
   "mimetype": "text/x-python",
   "name": "python",
   "nbconvert_exporter": "python",
   "pygments_lexer": "ipython3",
   "version": "3.5.2"
  },
  "varInspector": {
   "cols": {
    "lenName": 16,
    "lenType": 16,
    "lenVar": 40
   },
   "kernels_config": {
    "python": {
     "delete_cmd_postfix": "",
     "delete_cmd_prefix": "del ",
     "library": "var_list.py",
     "varRefreshCmd": "print(var_dic_list())"
    },
    "r": {
     "delete_cmd_postfix": ") ",
     "delete_cmd_prefix": "rm(",
     "library": "var_list.r",
     "varRefreshCmd": "cat(var_dic_list()) "
    }
   },
   "types_to_exclude": [
    "module",
    "function",
    "builtin_function_or_method",
    "instance",
    "_Feature"
   ],
   "window_display": false
  }
 },
 "nbformat": 4,
 "nbformat_minor": 1
}
